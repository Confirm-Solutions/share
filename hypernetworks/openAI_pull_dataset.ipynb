{
 "cells": [
  {
   "cell_type": "code",
   "execution_count": null,
   "metadata": {},
   "outputs": [],
   "source": [
    "from openai import OpenAI\n",
    "client = OpenAI()\n",
    "\n",
    "for j in range(99):\n",
    "  completion = client.chat.completions.create(\n",
    "    model=\"gpt-3.5-turbo\",\n",
    "    messages=[\n",
    "      {\"role\": \"system\", \"content\": \"You are a helpful assistant with a flair for poetry.\"},\n",
    "      {\"role\": \"user\", \"content\": \"Write a sentence using the word ' cat' somewhere in the first 7 words.\"}\n",
    "    ],\n",
    "    max_tokens=15,\n",
    "    temperature=1.1,\n",
    "    n=100\n",
    "  )\n",
    "\n",
    "  #Iterate thru messages and save them to a file\n",
    "\n",
    "  print(completion.choices[0].message)\n",
    "\n",
    "\n",
    "  for message in completion.choices:\n",
    "    print(message.message.content)\n",
    "    with open(\"output.txt\", \"a\") as file:\n",
    "      file.write(message.message.content + \"\\n\")"
   ]
  }
 ],
 "metadata": {
  "kernelspec": {
   "display_name": "Python 3",
   "language": "python",
   "name": "python3"
  },
  "language_info": {
   "codemirror_mode": {
    "name": "ipython",
    "version": 3
   },
   "file_extension": ".py",
   "mimetype": "text/x-python",
   "name": "python",
   "nbconvert_exporter": "python",
   "pygments_lexer": "ipython3",
   "version": "3.9.0"
  }
 },
 "nbformat": 4,
 "nbformat_minor": 2
}
