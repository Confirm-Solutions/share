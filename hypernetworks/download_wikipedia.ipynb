{
 "cells": [
  {
   "cell_type": "code",
   "execution_count": 1,
   "metadata": {},
   "outputs": [
    {
     "data": {
      "application/vnd.jupyter.widget-view+json": {
       "model_id": "8b679be7a7f84d25a387b53a58f8052d",
       "version_major": 2,
       "version_minor": 0
      },
      "text/plain": [
       "Downloading readme:   0%|          | 0.00/1.98k [00:00<?, ?B/s]"
      ]
     },
     "metadata": {},
     "output_type": "display_data"
    },
    {
     "name": "stderr",
     "output_type": "stream",
     "text": [
      "Downloading data: 100%|██████████| 320M/320M [00:07<00:00, 40.2MB/s] \n",
      "Downloading data: 100%|██████████| 273M/273M [00:05<00:00, 48.8MB/s] \n",
      "Downloading data: 100%|██████████| 269M/269M [00:07<00:00, 37.5MB/s] \n",
      "Downloading data: 100%|██████████| 269M/269M [00:07<00:00, 38.3MB/s] \n",
      "Downloading data: 100%|██████████| 257M/257M [00:06<00:00, 38.7MB/s] \n"
     ]
    },
    {
     "data": {
      "application/vnd.jupyter.widget-view+json": {
       "model_id": "e5d9763d3e614161b4d330b614239105",
       "version_major": 2,
       "version_minor": 0
      },
      "text/plain": [
       "Generating train split: 0 examples [00:00, ? examples/s]"
      ]
     },
     "metadata": {},
     "output_type": "display_data"
    }
   ],
   "source": [
    "from datasets import load_dataset\n",
    "from tqdm import tqdm\n",
    "dataset = load_dataset(\"abokbot/wikipedia-first-paragraph\")"
   ]
  },
  {
   "cell_type": "code",
   "execution_count": 2,
   "metadata": {},
   "outputs": [
    {
     "data": {
      "text/plain": [
       "{'id': ['12', '25', '39', '290', '303'],\n",
       " 'url': ['https://en.wikipedia.org/wiki/Anarchism',\n",
       "  'https://en.wikipedia.org/wiki/Autism',\n",
       "  'https://en.wikipedia.org/wiki/Albedo',\n",
       "  'https://en.wikipedia.org/wiki/A',\n",
       "  'https://en.wikipedia.org/wiki/Alabama'],\n",
       " 'title': ['Anarchism', 'Autism', 'Albedo', 'A', 'Alabama'],\n",
       " 'text': ['Anarchism is a political philosophy and movement that is sceptical of authority and rejects all involuntary, coercive forms of hierarchy. Anarchism calls for the abolition of the state, which it holds to be unnecessary, undesirable, and harmful. As a historically left-wing movement, placed on the farthest left of the political spectrum, it is usually described alongside communalism and libertarian Marxism as the libertarian wing (libertarian socialism) of the socialist movement, and has a strong historical association with anti-capitalism and socialism.',\n",
       "  \"Autism is a neurodevelopmental disorder characterized by difficulties with social interaction and communication, and by restricted and repetitive behavior. Parents often notice signs during the first three years of their child's life. These signs often develop gradually, though some autistic children experience regression in their communication and social skills after reaching developmental milestones at a normal pace.\",\n",
       "  'Albedo (; ) is the measure of the diffuse reflection of solar radiation out of the total solar radiation and measured on a scale from 0, corresponding to a black body that absorbs all incident radiation, to 1, corresponding to a body that reflects all incident radiation.',\n",
       "  'A, or a, is the first letter and the first vowel of the modern English alphabet and the ISO basic Latin alphabet. Its name in English is a (pronounced ), plural aes. It is similar in shape to the Ancient Greek letter alpha, from which it derives. The uppercase version consists of the two slanting sides of a triangle, crossed in the middle by a horizontal bar. The lowercase version can be written in two forms: the double-storey a and single-storey ɑ. The latter is commonly used in handwriting and fonts based on it, especially fonts intended to be read by children, and is also found in italic type.',\n",
       "  'Alabama () is a state in the Southeastern region of the United States, bordered by Tennessee to the north; Georgia to the east; Florida and the Gulf of Mexico to the south; and Mississippi to the west. Alabama is the 30th largest by area and the 24th-most populous of the U.S. states. With a total of  of inland waterways, Alabama has among the most of any state.']}"
      ]
     },
     "execution_count": 2,
     "metadata": {},
     "output_type": "execute_result"
    }
   ],
   "source": [
    "#show first 5 examples\n",
    "dataset['train'][:5]"
   ]
  },
  {
   "cell_type": "code",
   "execution_count": 3,
   "metadata": {},
   "outputs": [
    {
     "data": {
      "text/plain": [
       "6458670"
      ]
     },
     "execution_count": 3,
     "metadata": {},
     "output_type": "execute_result"
    }
   ],
   "source": [
    "len(dataset['train'])"
   ]
  },
  {
   "cell_type": "code",
   "execution_count": 4,
   "metadata": {},
   "outputs": [],
   "source": [
    "def extract_sentences(texts):\n",
    "    first_sentences = []\n",
    "    second_sentences = []\n",
    "    third_sentences = []\n",
    "\n",
    "    for text in texts:\n",
    "        # Split the text into sentences\n",
    "        sentences = text.split('. ')\n",
    "        \n",
    "        # Extract the first sentence\n",
    "        first_sentence = sentences[0] if len(sentences) > 0 else \"\"\n",
    "        first_sentences.append(first_sentence + '.' if first_sentence else \"\")\n",
    "\n",
    "        # Extract the second sentence, if it exists\n",
    "        second_sentence = sentences[1] if len(sentences) > 1 else \"\"\n",
    "        second_sentences.append(second_sentence + '.' if second_sentence else \"\")\n",
    "        \n",
    "        # Extract the third sentence, if it exists\n",
    "        third_sentence = sentences[2] if len(sentences) > 2 else \"\"\n",
    "        third_sentences.append(third_sentence + '.' if third_sentence else \"\")\n",
    "\n",
    "\n",
    "    sentences_dict = {\n",
    "        'first_sentences': first_sentences,\n",
    "        'second_sentences': second_sentences,\n",
    "        'third_sentences': third_sentences,\n",
    "    }\n",
    "    return sentences_dict"
   ]
  },
  {
   "cell_type": "code",
   "execution_count": 5,
   "metadata": {},
   "outputs": [],
   "source": [
    "def splitsentences(datarow):\n",
    "    return extract_sentences(datarow['text'])"
   ]
  },
  {
   "cell_type": "code",
   "execution_count": 6,
   "metadata": {},
   "outputs": [
    {
     "data": {
      "text/plain": [
       "{'first_sentences': ['Anarchism is a political philosophy and movement that is sceptical of authority and rejects all involuntary, coercive forms of hierarchy.',\n",
       "  'Autism is a neurodevelopmental disorder characterized by difficulties with social interaction and communication, and by restricted and repetitive behavior.'],\n",
       " 'second_sentences': ['Anarchism calls for the abolition of the state, which it holds to be unnecessary, undesirable, and harmful.',\n",
       "  \"Parents often notice signs during the first three years of their child's life.\"],\n",
       " 'third_sentences': ['As a historically left-wing movement, placed on the farthest left of the political spectrum, it is usually described alongside communalism and libertarian Marxism as the libertarian wing (libertarian socialism) of the socialist movement, and has a strong historical association with anti-capitalism and socialism..',\n",
       "  'These signs often develop gradually, though some autistic children experience regression in their communication and social skills after reaching developmental milestones at a normal pace..']}"
      ]
     },
     "execution_count": 6,
     "metadata": {},
     "output_type": "execute_result"
    }
   ],
   "source": [
    "splitsentences(dataset['train'][0:2])"
   ]
  },
  {
   "cell_type": "code",
   "execution_count": 7,
   "metadata": {},
   "outputs": [
    {
     "data": {
      "application/vnd.jupyter.widget-view+json": {
       "model_id": "146caace10fb4e808ee8b878168eb740",
       "version_major": 2,
       "version_minor": 0
      },
      "text/plain": [
       "Map:   0%|          | 0/6458670 [00:00<?, ? examples/s]"
      ]
     },
     "metadata": {},
     "output_type": "display_data"
    }
   ],
   "source": [
    "new_dataset = dataset['train'].map(splitsentences, batched=True)"
   ]
  },
  {
   "cell_type": "code",
   "execution_count": 8,
   "metadata": {},
   "outputs": [],
   "source": [
    "wikipedia_dataset = new_dataset.remove_columns(['text','url','id'])"
   ]
  },
  {
   "cell_type": "code",
   "execution_count": 9,
   "metadata": {},
   "outputs": [
    {
     "data": {
      "text/plain": [
       "{'title': ['Anarchism', 'Autism', 'Albedo', 'A', 'Alabama'],\n",
       " 'first_sentences': ['Anarchism is a political philosophy and movement that is sceptical of authority and rejects all involuntary, coercive forms of hierarchy.',\n",
       "  'Autism is a neurodevelopmental disorder characterized by difficulties with social interaction and communication, and by restricted and repetitive behavior.',\n",
       "  'Albedo (; ) is the measure of the diffuse reflection of solar radiation out of the total solar radiation and measured on a scale from 0, corresponding to a black body that absorbs all incident radiation, to 1, corresponding to a body that reflects all incident radiation..',\n",
       "  'A, or a, is the first letter and the first vowel of the modern English alphabet and the ISO basic Latin alphabet.',\n",
       "  'Alabama () is a state in the Southeastern region of the United States, bordered by Tennessee to the north; Georgia to the east; Florida and the Gulf of Mexico to the south; and Mississippi to the west.'],\n",
       " 'second_sentences': ['Anarchism calls for the abolition of the state, which it holds to be unnecessary, undesirable, and harmful.',\n",
       "  \"Parents often notice signs during the first three years of their child's life.\",\n",
       "  '',\n",
       "  'Its name in English is a (pronounced ), plural aes.',\n",
       "  'Alabama is the 30th largest by area and the 24th-most populous of the U.S.'],\n",
       " 'third_sentences': ['As a historically left-wing movement, placed on the farthest left of the political spectrum, it is usually described alongside communalism and libertarian Marxism as the libertarian wing (libertarian socialism) of the socialist movement, and has a strong historical association with anti-capitalism and socialism..',\n",
       "  'These signs often develop gradually, though some autistic children experience regression in their communication and social skills after reaching developmental milestones at a normal pace..',\n",
       "  '',\n",
       "  'It is similar in shape to the Ancient Greek letter alpha, from which it derives.',\n",
       "  'states.']}"
      ]
     },
     "execution_count": 9,
     "metadata": {},
     "output_type": "execute_result"
    }
   ],
   "source": [
    "wikipedia_dataset[:5]"
   ]
  },
  {
   "cell_type": "code",
   "execution_count": 10,
   "metadata": {},
   "outputs": [
    {
     "data": {
      "application/vnd.jupyter.widget-view+json": {
       "model_id": "21af9403d2b74f3e97616574f5dd1688",
       "version_major": 2,
       "version_minor": 0
      },
      "text/plain": [
       "Filter:   0%|          | 0/6458670 [00:00<?, ? examples/s]"
      ]
     },
     "metadata": {},
     "output_type": "display_data"
    }
   ],
   "source": [
    "def is_not_empty(row):\n",
    "    # Check if either first_sentence or second_sentence is empty\n",
    "    return row['first_sentences'] != \"\" and row['second_sentences'] != \"\" and row['third_sentences'] != \"\"\n",
    "\n",
    "# Apply the filter\n",
    "filtered_dataset = wikipedia_dataset.filter(is_not_empty)"
   ]
  },
  {
   "cell_type": "code",
   "execution_count": 11,
   "metadata": {},
   "outputs": [
    {
     "data": {
      "text/plain": [
       "2454569"
      ]
     },
     "execution_count": 11,
     "metadata": {},
     "output_type": "execute_result"
    }
   ],
   "source": [
    "len(filtered_dataset)"
   ]
  },
  {
   "cell_type": "code",
   "execution_count": 12,
   "metadata": {},
   "outputs": [
    {
     "data": {
      "application/vnd.jupyter.widget-view+json": {
       "model_id": "96c3eb74fb8a440e8b898a860e1d57d4",
       "version_major": 2,
       "version_minor": 0
      },
      "text/plain": [
       "Creating CSV from Arrow format:   0%|          | 0/2455 [00:00<?, ?ba/s]"
      ]
     },
     "metadata": {},
     "output_type": "display_data"
    },
    {
     "data": {
      "text/plain": [
       "857868419"
      ]
     },
     "execution_count": 12,
     "metadata": {},
     "output_type": "execute_result"
    }
   ],
   "source": [
    "filtered_dataset.to_csv('wikipedia_three_sentences.csv')"
   ]
  },
  {
   "cell_type": "markdown",
   "metadata": {},
   "source": []
  }
 ],
 "metadata": {
  "kernelspec": {
   "display_name": "confirm",
   "language": "python",
   "name": "python3"
  },
  "language_info": {
   "codemirror_mode": {
    "name": "ipython",
    "version": 3
   },
   "file_extension": ".py",
   "mimetype": "text/x-python",
   "name": "python",
   "nbconvert_exporter": "python",
   "pygments_lexer": "ipython3",
   "version": "3.10.9"
  }
 },
 "nbformat": 4,
 "nbformat_minor": 2
}
