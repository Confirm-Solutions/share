{
 "cells": [
  {
   "cell_type": "code",
   "execution_count": 2,
   "metadata": {},
   "outputs": [],
   "source": [
    "from openai import OpenAI\n",
    "client = OpenAI()\n",
    "\n",
    "# List of single-token nouns to iterate over\n",
    "words = ['dog', 'car', 'tree', 'book', 'river', 'phone', 'house', 'cake', 'moon', 'shoe']\n",
    "\n",
    "for word in words:\n",
    "    for j in range(10):  # Adjust the range if you need more sentences per word\n",
    "        completion = client.chat.completions.create(\n",
    "            model=\"gpt-3.5-turbo\",\n",
    "            messages=[\n",
    "                {\"role\": \"system\", \"content\": \"You are a helpful assistant with a flair for poetry.\"},\n",
    "                {\"role\": \"user\", \"content\": f\"Write a sentence using the word '{word}' somewhere in the first 7 words.\"}\n",
    "            ],\n",
    "            max_tokens=15,\n",
    "            temperature=1.1,\n",
    "            n=90  # Adjust the number of completions as needed\n",
    "        )\n",
    "\n",
    "        # Iterate through messages and save them to a file\n",
    "        for message in completion.choices:\n",
    "            #print(message.message.content)\n",
    "            with open(f\"output_{word}.txt\", \"a\") as file:  # Separate files for each word\n",
    "                file.write(message.message.content + \"\\n\")\n"
   ]
  }
 ],
 "metadata": {
  "kernelspec": {
   "display_name": "Python 3",
   "language": "python",
   "name": "python3"
  },
  "language_info": {
   "codemirror_mode": {
    "name": "ipython",
    "version": 3
   },
   "file_extension": ".py",
   "mimetype": "text/x-python",
   "name": "python",
   "nbconvert_exporter": "python",
   "pygments_lexer": "ipython3",
   "version": "3.9.13"
  }
 },
 "nbformat": 4,
 "nbformat_minor": 2
}
